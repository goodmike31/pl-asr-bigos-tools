{
 "cells": [
  {
   "cell_type": "code",
   "execution_count": 1,
   "metadata": {},
   "outputs": [
    {
     "name": "stdout",
     "output_type": "stream",
     "text": [
      "Collecting assemblyai\n",
      "  Downloading assemblyai-0.26.0-py3-none-any.whl.metadata (26 kB)\n",
      "Requirement already satisfied: httpx>=0.19.0 in /home/michal/.pyenv/versions/3.10.11/envs/bigos-hf/lib/python3.10/site-packages (from assemblyai) (0.24.1)\n",
      "Requirement already satisfied: pydantic!=1.10.7,>=1.7.0 in /home/michal/.pyenv/versions/3.10.11/envs/bigos-hf/lib/python3.10/site-packages (from assemblyai) (1.10.14)\n",
      "Requirement already satisfied: typing-extensions>=3.7 in /home/michal/.pyenv/versions/3.10.11/envs/bigos-hf/lib/python3.10/site-packages (from assemblyai) (4.9.0)\n",
      "Requirement already satisfied: websockets>=11.0 in /home/michal/.pyenv/versions/3.10.11/envs/bigos-hf/lib/python3.10/site-packages (from assemblyai) (11.0.3)\n",
      "Requirement already satisfied: certifi in /home/michal/.pyenv/versions/3.10.11/envs/bigos-hf/lib/python3.10/site-packages (from httpx>=0.19.0->assemblyai) (2023.5.7)\n",
      "Requirement already satisfied: httpcore<0.18.0,>=0.15.0 in /home/michal/.pyenv/versions/3.10.11/envs/bigos-hf/lib/python3.10/site-packages (from httpx>=0.19.0->assemblyai) (0.17.2)\n",
      "Requirement already satisfied: idna in /home/michal/.pyenv/versions/3.10.11/envs/bigos-hf/lib/python3.10/site-packages (from httpx>=0.19.0->assemblyai) (3.4)\n",
      "Requirement already satisfied: sniffio in /home/michal/.pyenv/versions/3.10.11/envs/bigos-hf/lib/python3.10/site-packages (from httpx>=0.19.0->assemblyai) (1.3.0)\n",
      "Requirement already satisfied: h11<0.15,>=0.13 in /home/michal/.pyenv/versions/3.10.11/envs/bigos-hf/lib/python3.10/site-packages (from httpcore<0.18.0,>=0.15.0->httpx>=0.19.0->assemblyai) (0.14.0)\n",
      "Requirement already satisfied: anyio<5.0,>=3.0 in /home/michal/.pyenv/versions/3.10.11/envs/bigos-hf/lib/python3.10/site-packages (from httpcore<0.18.0,>=0.15.0->httpx>=0.19.0->assemblyai) (3.7.1)\n",
      "Requirement already satisfied: exceptiongroup in /home/michal/.pyenv/versions/3.10.11/envs/bigos-hf/lib/python3.10/site-packages (from anyio<5.0,>=3.0->httpcore<0.18.0,>=0.15.0->httpx>=0.19.0->assemblyai) (1.1.1)\n",
      "Downloading assemblyai-0.26.0-py3-none-any.whl (68 kB)\n",
      "\u001b[2K   \u001b[90m━━━━━━━━━━━━━━━━━━━━━━━━━━━━━━━━━━━━━━━━\u001b[0m \u001b[32m68.3/68.3 kB\u001b[0m \u001b[31m1.5 MB/s\u001b[0m eta \u001b[36m0:00:00\u001b[0ma \u001b[36m0:00:01\u001b[0m\n",
      "\u001b[?25hInstalling collected packages: assemblyai\n",
      "Successfully installed assemblyai-0.26.0\n"
     ]
    }
   ],
   "source": [
    "!pip install assemblyai"
   ]
  },
  {
   "cell_type": "code",
   "execution_count": 1,
   "metadata": {},
   "outputs": [
    {
     "name": "stdout",
     "output_type": "stream",
     "text": [
      "Okręt posiada 9 silników napędzających, 3 wały napędowe. Do każdego wału podłączony jest 0 wirników, 3 tłoków i 8 cylindrów.\n"
     ]
    }
   ],
   "source": [
    "import assemblyai as aai\n",
    "\n",
    "aai.settings.api_key = \"YOUR_API_KEY\"\n",
    "transcriber = aai.Transcriber()\n",
    "config = aai.TranscriptionConfig(language_code=\"pl\",speech_model=aai.SpeechModel.best)\n",
    "\n",
    "\n",
    "#transcript = transcriber.transcribe(\"https://storage.googleapis.com/aai-web-samples/news.mp4\")\n",
    "transcript = transcriber.transcribe(\"../test/test.wav\", config=config)\n",
    "\n",
    "print(transcript.text)"
   ]
  },
  {
   "cell_type": "code",
   "execution_count": 2,
   "metadata": {},
   "outputs": [
    {
     "name": "stdout",
     "output_type": "stream",
     "text": [
      "Okręt posiada 9 silników napędzających 3 wały napędowe. Każdego wału podłączony jest 0 wirników, 3 tłoków i 8 cilindrów.\n"
     ]
    }
   ],
   "source": [
    "import assemblyai as aai\n",
    "\n",
    "aai.settings.api_key = \"YOUR_API_KEY\"\n",
    "transcriber = aai.Transcriber()\n",
    "config = aai.TranscriptionConfig(language_code=\"pl\", speech_model=aai.SpeechModel.nano)\n",
    "\n",
    "\n",
    "#transcript = transcriber.transcribe(\"https://storage.googleapis.com/aai-web-samples/news.mp4\")\n",
    "transcript = transcriber.transcribe(\"../test/test.wav\", config=config)\n",
    "\n",
    "print(transcript.text)\n"
   ]
  }
 ],
 "metadata": {
  "kernelspec": {
   "display_name": "bigos-hf",
   "language": "python",
   "name": "python3"
  },
  "language_info": {
   "codemirror_mode": {
    "name": "ipython",
    "version": 3
   },
   "file_extension": ".py",
   "mimetype": "text/x-python",
   "name": "python",
   "nbconvert_exporter": "python",
   "pygments_lexer": "ipython3",
   "version": "3.10.11"
  }
 },
 "nbformat": 4,
 "nbformat_minor": 2
}
