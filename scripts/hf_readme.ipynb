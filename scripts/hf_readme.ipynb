{
 "cells": [
  {
   "cell_type": "markdown",
   "metadata": {},
   "source": [
    "# Hugging Face scripts\n",
    "\n",
    "## Validate BIGOS dataset\n",
    "\n",
    "Script [`huggingface/tests.py`](huggingface/tests.py) provides several tests to validate the dataset on the Hugging Face website.\n",
    "\n",
    "To perform all available tests run the following line in terminal:\n",
    "\n",
    "```bash\n",
    "python -m pytest huggingface/tests.py\n",
    "```\n",
    "\n",
    "If you want to perform a selected test, you can specify the name of the test after the double colon, as in the example:\n",
    "\n",
    "```bash\n",
    "python -m pytest huggingface/tests.py::test_if_subset_uploaded\n",
    "```\n",
    "\n",
    "An example of the output of one of the tests can be seen below."
   ]
  },
  {
   "cell_type": "code",
   "execution_count": 1,
   "metadata": {},
   "outputs": [
    {
     "name": "stdout",
     "output_type": "stream",
     "text": [
      "\u001b[1m============================= test session starts ==============================\u001b[0m\n",
      "platform linux -- Python 3.10.11, pytest-7.3.1, pluggy-1.0.0 -- /home/michal/.pyenv/versions/3.10.11/envs/bigos-venv-3.10/bin/python\n",
      "cachedir: .pytest_cache\n",
      "rootdir: /home/michal/Development/github/pl-asr-bigos-tools/scripts\n",
      "plugins: dash-2.14.2, anyio-3.7.0, typeguard-4.0.0\n",
      "collected 12 items                                                             \u001b[0m\n",
      "\n",
      "huggingface/tests.py::test_if_subset_uploaded[polyai-minds14-21] \u001b[32mPASSED\u001b[0m\u001b[32m  [  8%]\u001b[0m\n",
      "huggingface/tests.py::test_if_subset_uploaded[mozilla-common_voice_15-23] \u001b[32mPASSED\u001b[0m\u001b[32m [ 16%]\u001b[0m\n",
      "huggingface/tests.py::test_if_subset_uploaded[pwr-viu-unk] \u001b[32mPASSED\u001b[0m\u001b[32m        [ 25%]\u001b[0m\n",
      "huggingface/tests.py::test_if_subset_uploaded[pjatk-clarin_studio-15] \u001b[32mPASSED\u001b[0m\u001b[32m [ 33%]\u001b[0m\n",
      "huggingface/tests.py::test_if_subset_uploaded[mailabs-corpus_librivox-19] \u001b[32mPASSED\u001b[0m\u001b[32m [ 41%]\u001b[0m\n",
      "huggingface/tests.py::test_if_subset_uploaded[google-fleurs-22] \u001b[32mPASSED\u001b[0m\u001b[32m   [ 50%]\u001b[0m\n",
      "huggingface/tests.py::test_if_subset_uploaded[pwr-azon_spont-20] \u001b[32mPASSED\u001b[0m\u001b[32m  [ 58%]\u001b[0m\n",
      "huggingface/tests.py::test_if_subset_uploaded[pwr-shortwords-unk] \u001b[32mPASSED\u001b[0m\u001b[32m [ 66%]\u001b[0m\n",
      "huggingface/tests.py::test_if_subset_uploaded[pwr-azon_read-20] \u001b[32mPASSED\u001b[0m\u001b[32m   [ 75%]\u001b[0m\n",
      "huggingface/tests.py::test_if_subset_uploaded[pjatk-clarin_mobile-15] \u001b[32mPASSED\u001b[0m\u001b[32m [ 83%]\u001b[0m\n",
      "huggingface/tests.py::test_if_subset_uploaded[pwr-maleset-unk] \u001b[32mPASSED\u001b[0m\u001b[32m    [ 91%]\u001b[0m\n",
      "huggingface/tests.py::test_if_subset_uploaded[fair-mls-20] \u001b[32mPASSED\u001b[0m\u001b[32m        [100%]\u001b[0m\n",
      "\n",
      "\u001b[32m============================== \u001b[32m\u001b[1m12 passed\u001b[0m\u001b[32m in 6.17s\u001b[0m\u001b[32m ==============================\u001b[0m\n"
     ]
    }
   ],
   "source": [
    "! python -m pytest -v huggingface/tests.py::test_if_subset_uploaded"
   ]
  },
  {
   "cell_type": "markdown",
   "metadata": {},
   "source": [
    "### Available tests\n",
    "\n",
    "- `test_if_subset_uploaded` - iterates over subsets included in `BIGOS_SUBSETS` const and checks whether subset is uploaded to the repository on Hugging Face.\n",
    "\n",
    "- `test_for_extra_subsets` - checks if there are any subsets uploaded to the repository on Hugging Face, that are not included in `BIGOS_SUBSETS` const.\n",
    "\n",
    "- `test_if_file_exists` - iterates over subsets included in `BIGOS_SUBSETS` const and checks whether all expected files exist for a subset, i.e. `train.tsv`, `train.tar.gz`, `validation.tsv`, `validation.tar.gz`, `test.tsv`, `test.tar.gz`.\n",
    "\n",
    "- `test_for_extra_files` - iterates over subsets included in `BIGOS_SUBSETS` const and checks if there are any unexpected files uploaded to the repository on Hugging Face for a subset."
   ]
  },
  {
   "cell_type": "markdown",
   "metadata": {},
   "source": [
    "# Analyze BIGOS dataset\n",
    "\n",
    "File `huggingface/data_analyzer.py` defines `DataAnalyzer` class, which can be used to generate statistics for a dataset.\n",
    "\n",
    "The output depends on selected subsets and splits:\n",
    "\n",
    "- `noSamples` (`int`) - total number of samples in dataset, subset, or split. Available in all cases.\n",
    "\n",
    "- `noEmptyReferences` (`int`)- number of empty reference sentences. Available for `train` and `validation` split.\n",
    "\n",
    "- `noDifferentLanguage` (`int`) - number of reference sentences most likely written in language different than Polish. Available for `train` and `validation` split.\n",
    "\n",
    "- `noDoubleWhitespaces` (`int`) - number of reference sentences containing double white spaces. Available for `train` and `validation` split.\n",
    "\n",
    "- `noWithoutPunctuation` (`int`) - number of reference sentences without punctuation marks. Available for `train` and `validation` split.\n",
    "\n",
    "- `punctuationCounter` (`collections.Counter()`) - counter of punctuation marks in reference sentences. Available for `train` and `validation` split.\n",
    "\n",
    "- `emptyReference` (`list`) - list of file IDs for which the reference sentence is empty. Available for `train` and `validation` split. Not available for `all` subset.\n",
    "\n",
    "- `differentLanguage` (`list`) - list of file IDs for which language different than Polish was detected. Available for `train` and `validation` split. Not available for `all` subset.\n",
    "\n",
    "- `noNonEmptyReferences` (`int`) - number of non-empty reference sentences. Available for `test` split.\n",
    "\n",
    "An example of the output generated with `DataAnalyzer` is shown below."
   ]
  },
  {
   "cell_type": "code",
   "execution_count": 3,
   "metadata": {},
   "outputs": [
    {
     "name": "stderr",
     "output_type": "stream",
     "text": [
      "100%|██████████| 761/761 [00:01<00:00, 474.35it/s]\n",
      "100%|██████████| 86/86 [00:00<00:00, 383.48it/s]\n",
      "100%|██████████| 92/92 [00:00<00:00, 1372.49it/s]\n",
      "100%|██████████| 357/357 [00:01<00:00, 307.20it/s]\n",
      "100%|██████████| 51/51 [00:00<00:00, 265.06it/s]\n",
      "100%|██████████| 48/48 [00:00<00:00, 706.01it/s]\n"
     ]
    },
    {
     "name": "stdout",
     "output_type": "stream",
     "text": [
      "{\n",
      "  \"pwr-shortwords-unk\": {\n",
      "    \"train\": {\n",
      "      \"noSamples\": 761,\n",
      "      \"noEmptyReferences\": 0,\n",
      "      \"noDifferentLanguage\": 2,\n",
      "      \"noDoubleWhitespaces\": 5,\n",
      "      \"noWithoutPunctuation\": 759,\n",
      "      \"punctuationCounter\": {\n",
      "        \".\": 2\n",
      "      },\n",
      "      \"emptyReference\": [],\n",
      "      \"differentLanguage\": [\n",
      "        \"pwr-shortwords-unk-train-0001-00839\",\n",
      "        \"pwr-shortwords-unk-train-0001-00849\"\n",
      "      ]\n",
      "    },\n",
      "    \"validation\": {\n",
      "      \"noSamples\": 86,\n",
      "      \"noEmptyReferences\": 0,\n",
      "      \"noDifferentLanguage\": 0,\n",
      "      \"noDoubleWhitespaces\": 0,\n",
      "      \"noWithoutPunctuation\": 85,\n",
      "      \"punctuationCounter\": {\n",
      "        \".\": 1\n",
      "      },\n",
      "      \"emptyReference\": [],\n",
      "      \"differentLanguage\": []\n",
      "    },\n",
      "    \"test\": {\n",
      "      \"noSamples\": 92,\n",
      "      \"noNonEmptyReferences\": 92\n",
      "    },\n",
      "    \"all\": {\n",
      "      \"noSamples\": 939\n",
      "    }\n",
      "  },\n",
      "  \"pwr-azon_spont-20\": {\n",
      "    \"train\": {\n",
      "      \"noSamples\": 357,\n",
      "      \"noEmptyReferences\": 0,\n",
      "      \"noDifferentLanguage\": 0,\n",
      "      \"noDoubleWhitespaces\": 2,\n",
      "      \"noWithoutPunctuation\": 357,\n",
      "      \"punctuationCounter\": {},\n",
      "      \"emptyReference\": [],\n",
      "      \"differentLanguage\": []\n",
      "    },\n",
      "    \"validation\": {\n",
      "      \"noSamples\": 51,\n",
      "      \"noEmptyReferences\": 0,\n",
      "      \"noDifferentLanguage\": 0,\n",
      "      \"noDoubleWhitespaces\": 0,\n",
      "      \"noWithoutPunctuation\": 51,\n",
      "      \"punctuationCounter\": {},\n",
      "      \"emptyReference\": [],\n",
      "      \"differentLanguage\": []\n",
      "    },\n",
      "    \"test\": {\n",
      "      \"noSamples\": 48,\n",
      "      \"noNonEmptyReferences\": 48\n",
      "    },\n",
      "    \"all\": {\n",
      "      \"noSamples\": 456\n",
      "    }\n",
      "  },\n",
      "  \"all\": {\n",
      "    \"train\": {\n",
      "      \"noSamples\": 1118,\n",
      "      \"noEmptyReferences\": 0,\n",
      "      \"noDifferentLanguage\": 2,\n",
      "      \"noDoubleWhitespaces\": 7,\n",
      "      \"noWithoutPunctuation\": 1116,\n",
      "      \"punctuationCounter\": {\n",
      "        \".\": 2\n",
      "      }\n",
      "    },\n",
      "    \"validation\": {\n",
      "      \"noSamples\": 137,\n",
      "      \"noEmptyReferences\": 0,\n",
      "      \"noDifferentLanguage\": 0,\n",
      "      \"noDoubleWhitespaces\": 0,\n",
      "      \"noWithoutPunctuation\": 136,\n",
      "      \"punctuationCounter\": {\n",
      "        \".\": 1\n",
      "      }\n",
      "    },\n",
      "    \"test\": {\n",
      "      \"noSamples\": 140,\n",
      "      \"noNonEmptyReferences\": 140\n",
      "    },\n",
      "    \"all\": {\n",
      "      \"noSamples\": 1395\n",
      "    }\n",
      "  }\n",
      "}\n",
      "20240425\n"
     ]
    },
    {
     "ename": "FileNotFoundError",
     "evalue": "[Errno 2] No such file or directory: 'reports/bigos-20240425.json'",
     "output_type": "error",
     "traceback": [
      "\u001b[0;31m---------------------------------------------------------------------------\u001b[0m",
      "\u001b[0;31mFileNotFoundError\u001b[0m                         Traceback (most recent call last)",
      "Cell \u001b[0;32mIn[3], line 10\u001b[0m\n\u001b[1;32m      8\u001b[0m today \u001b[38;5;241m=\u001b[39m datetime\u001b[38;5;241m.\u001b[39mdatetime\u001b[38;5;241m.\u001b[39mnow()\u001b[38;5;241m.\u001b[39mstrftime(\u001b[38;5;124m'\u001b[39m\u001b[38;5;124m%\u001b[39m\u001b[38;5;124mY\u001b[39m\u001b[38;5;124m%\u001b[39m\u001b[38;5;124mm\u001b[39m\u001b[38;5;132;01m%d\u001b[39;00m\u001b[38;5;124m'\u001b[39m)\n\u001b[1;32m      9\u001b[0m \u001b[38;5;28mprint\u001b[39m(today)\n\u001b[0;32m---> 10\u001b[0m \u001b[43manalyzer\u001b[49m\u001b[38;5;241;43m.\u001b[39;49m\u001b[43msave_output\u001b[49m\u001b[43m(\u001b[49m\u001b[38;5;124;43m'\u001b[39;49m\u001b[38;5;124;43mreports/bigos-\u001b[39;49m\u001b[38;5;132;43;01m{}\u001b[39;49;00m\u001b[38;5;124;43m.json\u001b[39;49m\u001b[38;5;124;43m'\u001b[39;49m\u001b[38;5;241;43m.\u001b[39;49m\u001b[43mformat\u001b[49m\u001b[43m(\u001b[49m\u001b[43mtoday\u001b[49m\u001b[43m)\u001b[49m\u001b[43m)\u001b[49m\n",
      "File \u001b[0;32m~/Development/github/pl-asr-bigos-tools/scripts/huggingface/data_analyzer.py:237\u001b[0m, in \u001b[0;36mDataAnalyzer.save_output\u001b[0;34m(self, filename)\u001b[0m\n\u001b[1;32m    228\u001b[0m \u001b[38;5;28;01mdef\u001b[39;00m \u001b[38;5;21msave_output\u001b[39m(\u001b[38;5;28mself\u001b[39m, filename: \u001b[38;5;28mstr\u001b[39m) \u001b[38;5;241m-\u001b[39m\u001b[38;5;241m>\u001b[39m \u001b[38;5;28;01mNone\u001b[39;00m:\n\u001b[1;32m    229\u001b[0m \u001b[38;5;250m    \u001b[39m\u001b[38;5;124;03m\"\"\"\u001b[39;00m\n\u001b[1;32m    230\u001b[0m \u001b[38;5;124;03m    Saves output as a JSON file.\u001b[39;00m\n\u001b[1;32m    231\u001b[0m \n\u001b[0;32m   (...)\u001b[0m\n\u001b[1;32m    235\u001b[0m \u001b[38;5;124;03m        Name of the output file.\u001b[39;00m\n\u001b[1;32m    236\u001b[0m \u001b[38;5;124;03m    \"\"\"\u001b[39;00m\n\u001b[0;32m--> 237\u001b[0m     json\u001b[38;5;241m.\u001b[39mdump(\u001b[38;5;28mself\u001b[39m\u001b[38;5;241m.\u001b[39moutput, \u001b[38;5;28;43mopen\u001b[39;49m\u001b[43m(\u001b[49m\u001b[43mfilename\u001b[49m\u001b[43m,\u001b[49m\u001b[43m \u001b[49m\u001b[38;5;124;43m'\u001b[39;49m\u001b[38;5;124;43mw\u001b[39;49m\u001b[38;5;124;43m'\u001b[39;49m\u001b[43m)\u001b[49m)\n",
      "\u001b[0;31mFileNotFoundError\u001b[0m: [Errno 2] No such file or directory: 'reports/bigos-20240425.json'"
     ]
    }
   ],
   "source": [
    "from huggingface.data_analyzer import DataAnalyzer\n",
    "import json\n",
    "import datetime\n",
    "\n",
    "analyzer = DataAnalyzer(subsets=['pwr-shortwords-unk', 'pwr-azon_spont-20'], splits=['train', 'validation', 'test'])\n",
    "print(json.dumps(analyzer.analyze(), indent=2))\n"
   ]
  },
  {
   "cell_type": "code",
   "execution_count": 4,
   "metadata": {},
   "outputs": [
    {
     "name": "stdout",
     "output_type": "stream",
     "text": [
      "20240425\n"
     ]
    }
   ],
   "source": [
    "# save the analysis to a file with the today's date\n",
    "today = datetime.datetime.now().strftime('%Y%m%d')\n",
    "print(today)\n",
    "analyzer.save_output('../data/analyzer-reports/bigos-{}.json'.format(today))"
   ]
  }
 ],
 "metadata": {
  "kernelspec": {
   "display_name": "Python 3",
   "language": "python",
   "name": "python3"
  },
  "language_info": {
   "codemirror_mode": {
    "name": "ipython",
    "version": 3
   },
   "file_extension": ".py",
   "mimetype": "text/x-python",
   "name": "python",
   "nbconvert_exporter": "python",
   "pygments_lexer": "ipython3",
   "version": "3.10.11"
  }
 },
 "nbformat": 4,
 "nbformat_minor": 2
}
