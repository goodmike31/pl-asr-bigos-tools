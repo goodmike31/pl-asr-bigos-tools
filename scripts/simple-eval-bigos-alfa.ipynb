{
 "cells": [
  {
   "cell_type": "code",
   "execution_count": 10,
   "metadata": {},
   "outputs": [],
   "source": [
    "import datasets\n",
    "import pandas as pd\n",
    "from bigos_utils_eval import calculate_eval_metrics, format_eval_results\n"
   ]
  },
  {
   "cell_type": "code",
   "execution_count": 11,
   "metadata": {},
   "outputs": [],
   "source": [
    "# read evaluation dataset\n",
    "bigos_dataset = datasets.load_dataset('michaljunczyk/pl-asr-bigos', \"all\", split=\"test\", use_auth_token=True)"
   ]
  },
  {
   "cell_type": "code",
   "execution_count": 12,
   "metadata": {},
   "outputs": [
    {
     "name": "stdout",
     "output_type": "stream",
     "text": [
      "Calculating eval metrics for all subsets\n"
     ]
    },
    {
     "data": {
      "text/plain": [
       "'for subset in bigos_subsets:\\n    print(f\"Calculating eval metrics for subset: {subset}\")\\n    subsets_dict[subset] = bigos_dataset_df[bigos_dataset_df.dataset_id == subset]\\n    eval_results_dict[subset] = calculate_eval_metrics(subset,subsets_dict[subset])\\n'"
      ]
     },
     "execution_count": 12,
     "metadata": {},
     "output_type": "execute_result"
    }
   ],
   "source": [
    "# Calculate evaluation metrics for all subsets and available hypotheses and references\n",
    "subsets_dict = {}\n",
    "eval_results_dict = {}\n",
    "\n",
    "# get all subsets\n",
    "bigos_subsets = set(bigos_dataset[\"dataset_id\"])\n",
    "bigos_dataset_df = bigos_dataset.to_pandas()\n",
    "\n",
    "# calculate metrics for all subsets\n",
    "print(f\"Calculating eval metrics for all subsets\")\n",
    "\n",
    "eval_results_dict[\"all\"] = calculate_eval_metrics(\"all\", bigos_dataset_df)\n",
    "\n",
    "for subset in bigos_subsets:\n",
    "    print(f\"Calculating eval metrics for subset: {subset}\")\n",
    "    subsets_dict[subset] = bigos_dataset_df[bigos_dataset_df.dataset_id == subset]\n",
    "    eval_results_dict[subset] = calculate_eval_metrics(subset,subsets_dict[subset])"
   ]
  },
  {
   "cell_type": "code",
   "execution_count": 14,
   "metadata": {},
   "outputs": [
    {
     "name": "stdout",
     "output_type": "stream",
     "text": [
      "   dataset test cases normalization reference   system  variant    SER    WIL  \\\n",
      "32     all       1900           all  original  whisper    cloud  55.32  18.05   \n",
      "33     all       1900           all  original   google  default  61.05  27.10   \n",
      "34     all       1900           all  original    azure  default  61.84  28.49   \n",
      "35     all       1900           all  original  whisper     tiny  90.58  60.65   \n",
      "36     all       1900           all  original  whisper     base  83.89  44.09   \n",
      "37     all       1900           all  original  whisper    small  66.63  24.12   \n",
      "38     all       1900           all  original  whisper   medium  53.11  15.95   \n",
      "39     all       1900           all  original  whisper    large  47.16  12.40   \n",
      "\n",
      "      MER    WER    CER  \n",
      "32  11.37  11.59   5.00  \n",
      "33  17.82  18.20   9.07  \n",
      "34  21.59  22.21  14.63  \n",
      "35  40.94  44.14  14.07  \n",
      "36  28.12  29.31   9.09  \n",
      "37  14.92  15.22   5.40  \n",
      "38  10.03  10.15   4.34  \n",
      "39   7.80   7.87   3.55  \n"
     ]
    }
   ],
   "source": [
    "# Print average metrics for all subsets and normalization settings\n",
    "print(eval_results_dict[\"all\"][eval_results_dict[\"all\"][\"normalization\"]==\"all\"])\n"
   ]
  }
 ],
 "metadata": {
  "kernelspec": {
   "display_name": "bigos-venv-3.10",
   "language": "python",
   "name": "python3"
  },
  "language_info": {
   "codemirror_mode": {
    "name": "ipython",
    "version": 3
   },
   "file_extension": ".py",
   "mimetype": "text/x-python",
   "name": "python",
   "nbconvert_exporter": "python",
   "pygments_lexer": "ipython3",
   "version": "3.10.11"
  },
  "orig_nbformat": 4
 },
 "nbformat": 4,
 "nbformat_minor": 2
}
