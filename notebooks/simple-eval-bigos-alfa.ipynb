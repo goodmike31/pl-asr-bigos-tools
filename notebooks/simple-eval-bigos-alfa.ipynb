{
 "cells": [
  {
   "cell_type": "code",
   "execution_count": null,
   "metadata": {},
   "outputs": [],
   "source": [
    "import datasets\n",
    "import pandas as pd\n",
    "\n",
    "# Load dataset\n",
    "dataset = datasets.load_dataset('michaljunczyk/pl-asr-bigos', split=\"test\")"
   ]
  }
 ],
 "metadata": {
  "language_info": {
   "name": "python"
  },
  "orig_nbformat": 4
 },
 "nbformat": 4,
 "nbformat_minor": 2
}
